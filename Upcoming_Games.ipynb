{
 "cells": [
  {
   "cell_type": "markdown",
   "metadata": {},
   "source": [
    "### This Note Book contains the extraction of 'Upcoming Games' from the original dataset"
   ]
  },
  {
   "cell_type": "markdown",
   "metadata": {},
   "source": [
    "#### Importing Packages"
   ]
  },
  {
   "cell_type": "code",
   "execution_count": 213,
   "metadata": {},
   "outputs": [],
   "source": [
    "import glob\n",
    "import os\n",
    "import pandas as pd\n",
    "import numpy as np\n",
    "import plotly.express as px\n",
    "import matplotlib.pyplot as plt\n",
    "import seaborn as sns"
   ]
  },
  {
   "cell_type": "markdown",
   "metadata": {},
   "source": [
    "#### Data Preperation"
   ]
  },
  {
   "cell_type": "code",
   "execution_count": 214,
   "metadata": {},
   "outputs": [
    {
     "data": {
      "text/plain": [
       "13"
      ]
     },
     "execution_count": 214,
     "metadata": {},
     "output_type": "execute_result"
    }
   ],
   "source": [
    "#Identify common features for all datasets\n",
    "Features = ['League', 'Wk', 'Day', 'Date', 'Time', 'Home', 'Score', 'Away',\n",
    "       'Attendance', 'Venue', 'Referee', 'Match Report', 'Notes']\n",
    "len(Features)"
   ]
  },
  {
   "cell_type": "code",
   "execution_count": 215,
   "metadata": {},
   "outputs": [],
   "source": [
    "#This function is for handelling the unwanted features\n",
    "def my_function(g):\n",
    "    c=[]\n",
    "    for (columnName, columnData) in g.iteritems():\n",
    "        z=columnName in Features\n",
    "        if z == False:\n",
    "            c.append(columnName)\n",
    "    print(c)        \n",
    "    g.drop(c, axis=1 , inplace = True)\n"
   ]
  },
  {
   "cell_type": "code",
   "execution_count": 216,
   "metadata": {},
   "outputs": [
    {
     "name": "stdout",
     "output_type": "stream",
     "text": [
      "['xG', 'xG.1']\n",
      "[]\n",
      "['xG', 'xG.1']\n",
      "['xG', 'xG.1']\n",
      "['xG', 'xG.1']\n",
      "['xG', 'xG.1']\n",
      "[]\n",
      "[]\n"
     ]
    }
   ],
   "source": [
    "#Read Leagues datasets and mergethem in a dataset for each league\n",
    "\n",
    "spanish = pd.read_csv('Data/Spanish/SP2022.csv')\n",
    "spanish.insert(0,'League', 'SP')\n",
    "my_function(spanish)\n",
    "\n",
    "portuguese = pd.read_csv('Data/Dutch/N2022.csv')\n",
    "portuguese.insert(0,'League', 'P')\n",
    "my_function(portuguese)\n",
    "\n",
    "italic = pd.read_csv('Data/Italic/I2022.csv')\n",
    "italic.insert(0,'League', 'IT')\n",
    "my_function(italic)\n",
    "\n",
    "french = pd.read_csv('Data/French/F2022.csv')\n",
    "french.insert(0,'League', 'FL')\n",
    "my_function(french)\n",
    "\n",
    "german = pd.read_csv('Data/German/D2022.csv')\n",
    "german.insert(0,'League', 'BL')\n",
    "my_function(german)\n",
    "\n",
    "english = pd.read_csv('Data/English/E2022.csv')\n",
    "english.insert(0,'League', 'PL')\n",
    "my_function(english)\n",
    "\n",
    "dutch = pd.read_csv('Data/Dutch/N2022.csv')\n",
    "dutch.insert(0,'League', 'D')\n",
    "my_function(dutch)\n",
    "\n",
    "saudi = pd.read_csv('Data/Saudi/SPL2022.csv')\n",
    "saudi.insert(0,'League', 'SPL')\n",
    "my_function(saudi)\n",
    "# Merging all of the datasets into one dataset\n",
    "Upcomig_Games = pd.concat([spanish, portuguese, italic, french, german, english, dutch, saudi], ignore_index=True, sort=False)"
   ]
  },
  {
   "cell_type": "code",
   "execution_count": 217,
   "metadata": {},
   "outputs": [
    {
     "name": "stderr",
     "output_type": "stream",
     "text": [
      "/tmp/ipykernel_31370/4244479031.py:5: SettingWithCopyWarning: \n",
      "A value is trying to be set on a copy of a slice from a DataFrame\n",
      "\n",
      "See the caveats in the documentation: https://pandas.pydata.org/pandas-docs/stable/user_guide/indexing.html#returning-a-view-versus-a-copy\n",
      "  Upcomig_Games['Year'][i] = Upcomig_Games['Date'][i][0]+Upcomig_Games['Date'][i][1]+Upcomig_Games['Date'][i][2]+Upcomig_Games['Date'][i][3]\n",
      "/tmp/ipykernel_31370/4244479031.py:6: SettingWithCopyWarning: \n",
      "A value is trying to be set on a copy of a slice from a DataFrame\n",
      "\n",
      "See the caveats in the documentation: https://pandas.pydata.org/pandas-docs/stable/user_guide/indexing.html#returning-a-view-versus-a-copy\n",
      "  Upcomig_Games['Month'][i] = Upcomig_Games['Date'][i][5]+Upcomig_Games['Date'][i][6]\n",
      "/tmp/ipykernel_31370/4244479031.py:7: SettingWithCopyWarning: \n",
      "A value is trying to be set on a copy of a slice from a DataFrame\n",
      "\n",
      "See the caveats in the documentation: https://pandas.pydata.org/pandas-docs/stable/user_guide/indexing.html#returning-a-view-versus-a-copy\n",
      "  Upcomig_Games['Day_n'][i] = Upcomig_Games['Date'][i][8]+Upcomig_Games['Date'][i][9]\n"
     ]
    }
   ],
   "source": [
    "# Seperation of Day, Month, Year\n",
    "Upcomig_Games['Year']=''\n",
    "Upcomig_Games['Month']=''\n",
    "Upcomig_Games['Day_n']=''\n",
    "for i in range(len(Upcomig_Games)):\n",
    "        Upcomig_Games['Year'][i] = Upcomig_Games['Date'][i][0]+Upcomig_Games['Date'][i][1]+Upcomig_Games['Date'][i][2]+Upcomig_Games['Date'][i][3]\n",
    "        Upcomig_Games['Month'][i] = Upcomig_Games['Date'][i][5]+Upcomig_Games['Date'][i][6]\n",
    "        Upcomig_Games['Day_n'][i] = Upcomig_Games['Date'][i][8]+Upcomig_Games['Date'][i][9]"
   ]
  },
  {
   "cell_type": "code",
   "execution_count": 218,
   "metadata": {},
   "outputs": [],
   "source": [
    "#Droppint the observations without missing values in the score feature\n",
    "for i in range(len(Upcomig_Games)):\n",
    "    if pd.isnull(Upcomig_Games['Score'][i]) == False:\n",
    "       Upcomig_Games=Upcomig_Games.drop(index=i)\n",
    "Upcomig_Games.reset_index(drop= True, inplace=True)"
   ]
  },
  {
   "cell_type": "code",
   "execution_count": 219,
   "metadata": {},
   "outputs": [
    {
     "name": "stderr",
     "output_type": "stream",
     "text": [
      "/tmp/ipykernel_31370/3382433559.py:4: SettingWithCopyWarning: \n",
      "A value is trying to be set on a copy of a slice from a DataFrame\n",
      "\n",
      "See the caveats in the documentation: https://pandas.pydata.org/pandas-docs/stable/user_guide/indexing.html#returning-a-view-versus-a-copy\n",
      "  Upcomig_Games['Game'][i]= Upcomig_Games['Home'][i] + ' vs ' + Upcomig_Games['Away'][i]\n"
     ]
    }
   ],
   "source": [
    "# adding a column for the game (EXAMPLE, team_x vs team_y)\n",
    "Upcomig_Games['Game']=''\n",
    "for i in range(len(Upcomig_Games)):\n",
    "    Upcomig_Games['Game'][i]= Upcomig_Games['Home'][i] + ' vs ' + Upcomig_Games['Away'][i]"
   ]
  },
  {
   "cell_type": "code",
   "execution_count": 220,
   "metadata": {},
   "outputs": [
    {
     "data": {
      "text/html": [
       "<div>\n",
       "<style scoped>\n",
       "    .dataframe tbody tr th:only-of-type {\n",
       "        vertical-align: middle;\n",
       "    }\n",
       "\n",
       "    .dataframe tbody tr th {\n",
       "        vertical-align: top;\n",
       "    }\n",
       "\n",
       "    .dataframe thead th {\n",
       "        text-align: right;\n",
       "    }\n",
       "</style>\n",
       "<table border=\"1\" class=\"dataframe\">\n",
       "  <thead>\n",
       "    <tr style=\"text-align: right;\">\n",
       "      <th></th>\n",
       "      <th>League</th>\n",
       "      <th>Wk</th>\n",
       "      <th>Day</th>\n",
       "      <th>Date</th>\n",
       "      <th>Time</th>\n",
       "      <th>Home</th>\n",
       "      <th>Score</th>\n",
       "      <th>Away</th>\n",
       "      <th>Attendance</th>\n",
       "      <th>Venue</th>\n",
       "      <th>Referee</th>\n",
       "      <th>Match Report</th>\n",
       "      <th>Notes</th>\n",
       "      <th>Year</th>\n",
       "      <th>Month</th>\n",
       "      <th>Day_n</th>\n",
       "      <th>Game</th>\n",
       "    </tr>\n",
       "  </thead>\n",
       "  <tbody>\n",
       "    <tr>\n",
       "      <th>0</th>\n",
       "      <td>SP</td>\n",
       "      <td>21</td>\n",
       "      <td>Fri</td>\n",
       "      <td>2022-01-21</td>\n",
       "      <td>NaN</td>\n",
       "      <td>Barcelona</td>\n",
       "      <td>NaN</td>\n",
       "      <td>Rayo Vallecano</td>\n",
       "      <td>NaN</td>\n",
       "      <td>Camp Nou</td>\n",
       "      <td>NaN</td>\n",
       "      <td>NaN</td>\n",
       "      <td>Match Postponed</td>\n",
       "      <td>2022</td>\n",
       "      <td>01</td>\n",
       "      <td>21</td>\n",
       "      <td>Barcelona vs Rayo Vallecano</td>\n",
       "    </tr>\n",
       "  </tbody>\n",
       "</table>\n",
       "</div>"
      ],
      "text/plain": [
       "  League  Wk  Day        Date Time       Home Score            Away  \\\n",
       "0     SP  21  Fri  2022-01-21  NaN  Barcelona   NaN  Rayo Vallecano   \n",
       "\n",
       "   Attendance     Venue Referee Match Report            Notes  Year Month  \\\n",
       "0         NaN  Camp Nou     NaN          NaN  Match Postponed  2022    01   \n",
       "\n",
       "  Day_n                         Game  \n",
       "0    21  Barcelona vs Rayo Vallecano  "
      ]
     },
     "execution_count": 220,
     "metadata": {},
     "output_type": "execute_result"
    }
   ],
   "source": [
    "Upcomig_Games.head(1)"
   ]
  },
  {
   "cell_type": "code",
   "execution_count": 221,
   "metadata": {},
   "outputs": [],
   "source": [
    "Upcomig_Games['Month'] = Upcomig_Games['Month'].astype(str)\n",
    "Upcomig_Games['Day_n'] = Upcomig_Games['Day_n'].astype(str)"
   ]
  },
  {
   "cell_type": "code",
   "execution_count": 222,
   "metadata": {},
   "outputs": [],
   "source": [
    "# Saving the Dataframe into a csv file\n",
    "Upcomig_Games.to_csv('Data/Upcomig_Games.csv')"
   ]
  },
  {
   "cell_type": "code",
   "execution_count": 223,
   "metadata": {},
   "outputs": [],
   "source": [
    "def game_date(month , day):\n",
    "    games_list=[]\n",
    "    for i in range(len(Upcomig_Games)):\n",
    "        if Upcomig_Games['Month'][i] == month and Upcomig_Games['Day_n'][i] == day:\n",
    "                games_list.append(Upcomig_Games['Game'][i])                 \n",
    "    return games_list"
   ]
  },
  {
   "cell_type": "code",
   "execution_count": 224,
   "metadata": {},
   "outputs": [
    {
     "data": {
      "text/plain": [
       "['Granada vs Elche',\n",
       " 'Real Sociedad vs Alavés',\n",
       " 'Getafe vs Valencia',\n",
       " 'Levante vs Espanyol',\n",
       " 'Betis vs Athletic Club',\n",
       " 'Atlético Madrid vs Cádiz',\n",
       " 'Rayo Vallecano vs Sevilla',\n",
       " 'Villarreal vs Celta Vigo',\n",
       " 'Barcelona vs Osasuna',\n",
       " 'Mallorca vs Real Madrid',\n",
       " 'Fortuna Sittard vs Willem II',\n",
       " 'Heracles Almelo vs Vitesse',\n",
       " 'Utrecht vs PSV Eindhoven',\n",
       " 'Zwolle vs Feyenoord',\n",
       " 'AZ Alkmaar vs Twente',\n",
       " 'Atalanta vs Genoa',\n",
       " 'Salernitana vs Sassuolo',\n",
       " 'Lazio vs Venezia',\n",
       " 'Spezia vs Cagliari',\n",
       " 'Hellas Verona vs Napoli',\n",
       " 'Udinese vs Roma',\n",
       " 'Milan vs Empoli',\n",
       " 'Sampdoria vs Juventus',\n",
       " 'Fiorentina vs Bologna',\n",
       " 'Torino vs Inter',\n",
       " 'Lille vs Saint-Étienne',\n",
       " 'Troyes vs Nantes',\n",
       " 'Montpellier vs Nice',\n",
       " 'Metz vs Lens',\n",
       " 'Brest vs Marseille',\n",
       " 'Strasbourg vs Monaco',\n",
       " 'Lyon vs Rennes',\n",
       " 'Paris S-G vs Bordeaux',\n",
       " 'Angers vs Reims',\n",
       " 'Clermont Foot vs Lorient',\n",
       " 'Leverkusen vs Köln',\n",
       " 'Dortmund vs Arminia',\n",
       " 'Eint Frankfurt vs Bochum',\n",
       " 'Greuther Fürth vs RB Leipzig',\n",
       " 'West Ham vs Aston Villa',\n",
       " 'Chelsea vs Newcastle Utd',\n",
       " 'Arsenal vs Leicester City',\n",
       " 'Fortuna Sittard vs Willem II',\n",
       " 'Heracles Almelo vs Vitesse',\n",
       " 'Utrecht vs PSV Eindhoven',\n",
       " 'Zwolle vs Feyenoord',\n",
       " 'AZ Alkmaar vs Twente']"
      ]
     },
     "execution_count": 224,
     "metadata": {},
     "output_type": "execute_result"
    }
   ],
   "source": [
    "game_date('03' , '13')"
   ]
  }
 ],
 "metadata": {
  "interpreter": {
   "hash": "d4d1e4263499bec80672ea0156c357c1ee493ec2b1c70f0acce89fc37c4a6abe"
  },
  "kernelspec": {
   "display_name": "Python 3.9.7 ('base')",
   "language": "python",
   "name": "python3"
  },
  "language_info": {
   "codemirror_mode": {
    "name": "ipython",
    "version": 3
   },
   "file_extension": ".py",
   "mimetype": "text/x-python",
   "name": "python",
   "nbconvert_exporter": "python",
   "pygments_lexer": "ipython3",
   "version": "3.9.7"
  },
  "orig_nbformat": 4
 },
 "nbformat": 4,
 "nbformat_minor": 2
}
